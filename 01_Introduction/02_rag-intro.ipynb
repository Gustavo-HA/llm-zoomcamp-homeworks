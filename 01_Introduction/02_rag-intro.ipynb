{
 "cells": [
  {
   "cell_type": "code",
   "execution_count": 7,
   "id": "c5efbd3d",
   "metadata": {},
   "outputs": [],
   "source": [
    "import minsearch\n",
    "import json\n",
    "\n",
    "with open('./documents.json', 'rt') as f:\n",
    "    docs_raw = json.load(f)"
   ]
  },
  {
   "cell_type": "code",
   "execution_count": 8,
   "id": "2db03a84",
   "metadata": {},
   "outputs": [],
   "source": [
    "documents = []\n",
    "for course_dict in docs_raw:\n",
    "    for doc in course_dict['documents']:\n",
    "        doc['course'] = course_dict['course']\n",
    "        documents.append(doc)"
   ]
  },
  {
   "cell_type": "code",
   "execution_count": 9,
   "id": "139ba012",
   "metadata": {},
   "outputs": [
    {
     "data": {
      "text/plain": [
       "{'text': \"The purpose of this document is to capture frequently asked technical questions\\nThe exact day and hour of the course will be 15th Jan 2024 at 17h00. The course will start with the first  “Office Hours'' live.1\\nSubscribe to course public Google Calendar (it works from Desktop only).\\nRegister before the course starts using this link.\\nJoin the course Telegram channel with announcements.\\nDon’t forget to register in DataTalks.Club's Slack and join the channel.\",\n",
       " 'section': 'General course-related questions',\n",
       " 'question': 'Course - When will the course start?',\n",
       " 'course': 'data-engineering-zoomcamp'}"
      ]
     },
     "execution_count": 9,
     "metadata": {},
     "output_type": "execute_result"
    }
   ],
   "source": [
    "documents[0]"
   ]
  },
  {
   "cell_type": "code",
   "execution_count": 10,
   "id": "4fe6491c",
   "metadata": {},
   "outputs": [],
   "source": [
    "index = minsearch.Index(text_fields=['question',\n",
    "                             'text',\n",
    "                             'section'],\n",
    "                keyword_fields=['course']\n",
    ")"
   ]
  },
  {
   "cell_type": "code",
   "execution_count": 11,
   "id": "cf43db12",
   "metadata": {},
   "outputs": [],
   "source": [
    "q = \"the course has already started, can i still enroll?\"\n",
    "boost_dict = {\n",
    "    'enroll': 2.0,\n",
    "    'started': 1.0,\n",
    "    'course': 0.5\n",
    "}"
   ]
  },
  {
   "cell_type": "code",
   "execution_count": 12,
   "id": "661c72ab",
   "metadata": {},
   "outputs": [
    {
     "data": {
      "text/plain": [
       "<minsearch.minsearch.Index at 0x7aae72cbe570>"
      ]
     },
     "execution_count": 12,
     "metadata": {},
     "output_type": "execute_result"
    }
   ],
   "source": [
    "index.fit(documents)"
   ]
  },
  {
   "cell_type": "code",
   "execution_count": 14,
   "id": "a959b4bc",
   "metadata": {},
   "outputs": [
    {
     "name": "stdout",
     "output_type": "stream",
     "text": [
      "[{'text': 'Yes, you can. You won’t be able to submit some of the homeworks, but you can still take part in the course.\\nIn order to get a certificate, you need to submit 2 out of 3 course projects and review 3 peers’ Projects by the deadline. It means that if you join the course at the end of November and manage to work on two projects, you will still be eligible for a certificate.', 'section': 'General course-related questions', 'question': 'The course has already started. Can I still join it?', 'course': 'machine-learning-zoomcamp'}, {'text': 'Welcome to the course! Go to the course page (http://mlzoomcamp.com/), scroll down and start going through the course materials. Then read everything in the cohort folder for your cohort’s year.\\nClick on the links and start watching the videos. Also watch office hours from previous cohorts. Go to DTC youtube channel and click on Playlists and search for {course yyyy}. ML Zoomcamp was first launched in 2021.\\nOr you can just use this link: http://mlzoomcamp.com/#syllabus', 'section': 'General course-related questions', 'question': 'I just joined. What should I do next? How can I access course materials?', 'course': 'machine-learning-zoomcamp'}, {'text': \"Yes! We'll cover some linear algebra in the course, but in general, there will be very few formulas, mostly code.\\nHere are some interesting videos covering linear algebra that you can already watch: ML Zoomcamp 1.8 - Linear Algebra Refresher from Alexey Grigorev or the excellent playlist from 3Blue1Brown Vectors | Chapter 1, Essence of linear algebra. Never hesitate to ask the community for help if you have any question.\\n(Mélanie Fouesnard)\", 'section': 'General course-related questions', 'question': \"I don't know math. Can I take the course?\", 'course': 'machine-learning-zoomcamp'}, {'text': 'We won’t re-record the course videos. The focus of the course and the skills we want to teach remained the same, and the videos are still up-to-date.\\nIf you haven’t taken part in the previous iteration, you can start watching the videos. It’ll be useful for you and you will learn new things. However, we recommend using Python 3.10 now instead of Python 3.8.', 'section': 'General course-related questions', 'question': 'The course videos are from the previous iteration. Will you release new ones or we’ll use the videos from 2021?', 'course': 'machine-learning-zoomcamp'}, {'text': 'No, it’s not possible. The form is closed after the due date. But don’t worry, homework is not mandatory for finishing the course.', 'section': 'General course-related questions', 'question': 'Can I submit the homework after the due date?', 'course': 'machine-learning-zoomcamp'}]\n"
     ]
    }
   ],
   "source": [
    "results = index.search(query=q,\n",
    "                 filter_dict={'course': 'machine-learning-zoomcamp'},\n",
    "                 boost_dict=boost_dict,\n",
    "                 num_results=5)\n",
    "\n",
    "print(results)"
   ]
  },
  {
   "cell_type": "code",
   "execution_count": 15,
   "id": "72285d8b",
   "metadata": {},
   "outputs": [
    {
     "data": {
      "text/plain": [
       "'the course has already started, can i still enroll?'"
      ]
     },
     "execution_count": 15,
     "metadata": {},
     "output_type": "execute_result"
    }
   ],
   "source": [
    "q"
   ]
  },
  {
   "cell_type": "code",
   "execution_count": 16,
   "id": "f7bcd2cc",
   "metadata": {},
   "outputs": [],
   "source": [
    "import ollama"
   ]
  },
  {
   "cell_type": "code",
   "execution_count": 17,
   "id": "d1ca032c",
   "metadata": {},
   "outputs": [],
   "source": [
    "response = ollama.chat(\n",
    "    model=\"gpt-oss:20b\",\n",
    "    messages=[\n",
    "        {\n",
    "            \"role\": \"user\",\n",
    "            \"content\": q\n",
    "        }\n",
    "    ]\n",
    ")"
   ]
  },
  {
   "cell_type": "code",
   "execution_count": 26,
   "id": "e237483f",
   "metadata": {},
   "outputs": [
    {
     "name": "stdout",
     "output_type": "stream",
     "text": [
      "It depends on the institution’s policy and how the particular class is running, but in most cases you **can** still join a course that has already begun. Here’s what you can do right away:\n",
      "\n",
      "| Step | What to Do | Why It Helps |\n",
      "|------|------------|--------------|\n",
      "| **1. Check the Enrollment Portal** | Log into the student portal (or the LMS you use – Blackboard, Canvas, Moodle, etc.) and look for the course in the “Add/Drop” or “Register” section. | Most systems will show you if the class is still open, if you’re on a wait‑list, or if it’s already full. |\n",
      "| **2. Look for a “Late Enrollment” window** | Some schools keep a “late enrollment” or “add‑on” period that extends a few days or weeks past the first day of classes. | If the window is still open, you can submit a request directly. |\n",
      "| **3. Contact the Instructor** | Send a brief email: <br>`Subject: Late enrollment request – [Course Code]`<br>`Hi Professor [Last Name],<br>`<br>`I’m writing to see if it’s still possible to enroll in your [Course Title] class. I understand the course has already started, but I’d like to catch up and participate fully. Could you let me know what steps I need to take, or if there are any additional materials I should review?` | Instructors are usually the best resource for figuring out whether a spot is available, what’s needed to get caught up, and if they’ll be accommodating. |\n",
      "| **4. Talk to the Registrar or Student Services** | If the instructor says “yes” but you can’t see the course open in the portal, let the registrar know you’re trying to enroll late. | They can add you manually, put you on a wait‑list, or let you know if there’s a cap. |\n",
      "| **5. Request Course Materials Early** | Ask for the syllabus, lecture recordings, slide decks, or any pre‑work that the class has covered so far. | The sooner you get those, the easier it will be to catch up. |\n",
      "| **6. Confirm Your Enrollment** | Once you’re added, double‑check your schedule and the “My Courses” page to make sure the class appears correctly. | It’s easy to miss a step and think you’re enrolled when you’re not. |\n",
      "\n",
      "### Things to Keep in Mind\n",
      "\n",
      "| Potential Issue | What to Do |\n",
      "|-----------------|------------|\n",
      "| **Class is Full** | Ask if there’s a wait‑list. Even if you’re on the list, you might get in if someone drops. |\n",
      "| **Credit Transfer or Academic Standing** | If the course is part of a degree program, make sure the late enrollment won’t affect your academic progress or financial aid. |\n",
      "| **Catching Up** | Some instructors will provide a “catch‑up” plan or an extra assignment to bring you up to speed. Don’t hesitate to ask about it. |\n",
      "| **Deadlines** | Each institution has a hard cutoff (e.g., the first week of classes, or the 10‑day add‑drop period). If you’re past that, it’s often still possible but may be harder. |\n",
      "\n",
      "### Quick Checklist\n",
      "\n",
      "- [ ] Log in to the portal → Check class status.  \n",
      "- [ ] Find the “late enrollment” or “add‑on” window.  \n",
      "- [ ] Email the instructor: “Late enrollment request.”  \n",
      "- [ ] Contact registrar if needed.  \n",
      "- [ ] Request any available materials.  \n",
      "- [ ] Confirm enrollment in your schedule.  \n",
      "\n",
      "---\n",
      "\n",
      "**Bottom line:** Yes, you *can* still enroll, but you’ll need to act quickly and follow the official channels. Most instructors are willing to help a motivated student catch up, especially if you’re proactive and courteous. If you tell me which university or platform you’re using, I can give more specific instructions or templates!\n"
     ]
    }
   ],
   "source": [
    "print(response['message']['content'])"
   ]
  },
  {
   "cell_type": "code",
   "execution_count": 27,
   "id": "b4a419e4",
   "metadata": {},
   "outputs": [],
   "source": [
    "def get_prompt_template(context: str, question: str) -> str:\n",
    "    prompt_template = f\"\"\"\n",
    "    You're a course teaching assistant. Your job is to help students with their \n",
    "    questions and provide explanations on various topics.\n",
    "    Answer the question based on the CONTEXT. Use only the facts from the CONTEXT when answering the QUESTION.\n",
    "    If the CONTEXT doesn't contain the answer, output NONE.\n",
    "\n",
    "    CONTEXT:\n",
    "    {context.strip()}\n",
    "    \n",
    "    QUESTION:\n",
    "    {question.strip()}\n",
    "    \"\"\"\n",
    "    return prompt_template.strip()"
   ]
  },
  {
   "cell_type": "code",
   "execution_count": 28,
   "id": "42f58126",
   "metadata": {},
   "outputs": [],
   "source": [
    "context = \"\"\n",
    "for doc in results:\n",
    "    context += f\"section: {doc['section']}\\nquestion: {doc['question']}\\ntext: {doc['text']}\\n\\n\"\n",
    "context = context.strip()"
   ]
  },
  {
   "cell_type": "code",
   "execution_count": 29,
   "id": "1814d1cf",
   "metadata": {},
   "outputs": [
    {
     "name": "stdout",
     "output_type": "stream",
     "text": [
      "section: General course-related questions\n",
      "question: The course has already started. Can I still join it?\n",
      "text: Yes, you can. You won’t be able to submit some of the homeworks, but you can still take part in the course.\n",
      "In order to get a certificate, you need to submit 2 out of 3 course projects and review 3 peers’ Projects by the deadline. It means that if you join the course at the end of November and manage to work on two projects, you will still be eligible for a certificate.\n",
      "\n",
      "section: General course-related questions\n",
      "question: I just joined. What should I do next? How can I access course materials?\n",
      "text: Welcome to the course! Go to the course page (http://mlzoomcamp.com/), scroll down and start going through the course materials. Then read everything in the cohort folder for your cohort’s year.\n",
      "Click on the links and start watching the videos. Also watch office hours from previous cohorts. Go to DTC youtube channel and click on Playlists and search for {course yyyy}. ML Zoomcamp was first launched in 2021.\n",
      "Or you can just use this link: http://mlzoomcamp.com/#syllabus\n",
      "\n",
      "section: General course-related questions\n",
      "question: I don't know math. Can I take the course?\n",
      "text: Yes! We'll cover some linear algebra in the course, but in general, there will be very few formulas, mostly code.\n",
      "Here are some interesting videos covering linear algebra that you can already watch: ML Zoomcamp 1.8 - Linear Algebra Refresher from Alexey Grigorev or the excellent playlist from 3Blue1Brown Vectors | Chapter 1, Essence of linear algebra. Never hesitate to ask the community for help if you have any question.\n",
      "(Mélanie Fouesnard)\n",
      "\n",
      "section: General course-related questions\n",
      "question: The course videos are from the previous iteration. Will you release new ones or we’ll use the videos from 2021?\n",
      "text: We won’t re-record the course videos. The focus of the course and the skills we want to teach remained the same, and the videos are still up-to-date.\n",
      "If you haven’t taken part in the previous iteration, you can start watching the videos. It’ll be useful for you and you will learn new things. However, we recommend using Python 3.10 now instead of Python 3.8.\n",
      "\n",
      "section: General course-related questions\n",
      "question: Can I submit the homework after the due date?\n",
      "text: No, it’s not possible. The form is closed after the due date. But don’t worry, homework is not mandatory for finishing the course.\n"
     ]
    }
   ],
   "source": [
    "print(context)"
   ]
  },
  {
   "cell_type": "code",
   "execution_count": 30,
   "id": "de4594ad",
   "metadata": {},
   "outputs": [],
   "source": [
    "aug_prompt = get_prompt_template(context, q)"
   ]
  },
  {
   "cell_type": "code",
   "execution_count": 32,
   "id": "837f615e",
   "metadata": {},
   "outputs": [
    {
     "name": "stdout",
     "output_type": "stream",
     "text": [
      "You're a course teaching assistant. Your job is to help students with their \n",
      "    questions and provide explanations on various topics.\n",
      "    Answer the question based on the CONTEXT. Use only the facts from the CONTEXT when answering the QUESTION.\n",
      "    If the CONTEXT doesn't contain the answer, output NONE.\n",
      "\n",
      "    CONTEXT:\n",
      "    section: General course-related questions\n",
      "question: The course has already started. Can I still join it?\n",
      "text: Yes, you can. You won’t be able to submit some of the homeworks, but you can still take part in the course.\n",
      "In order to get a certificate, you need to submit 2 out of 3 course projects and review 3 peers’ Projects by the deadline. It means that if you join the course at the end of November and manage to work on two projects, you will still be eligible for a certificate.\n",
      "\n",
      "section: General course-related questions\n",
      "question: I just joined. What should I do next? How can I access course materials?\n",
      "text: Welcome to the course! Go to the course page (http://mlzoomcamp.com/), scroll down and start going through the course materials. Then read everything in the cohort folder for your cohort’s year.\n",
      "Click on the links and start watching the videos. Also watch office hours from previous cohorts. Go to DTC youtube channel and click on Playlists and search for {course yyyy}. ML Zoomcamp was first launched in 2021.\n",
      "Or you can just use this link: http://mlzoomcamp.com/#syllabus\n",
      "\n",
      "section: General course-related questions\n",
      "question: I don't know math. Can I take the course?\n",
      "text: Yes! We'll cover some linear algebra in the course, but in general, there will be very few formulas, mostly code.\n",
      "Here are some interesting videos covering linear algebra that you can already watch: ML Zoomcamp 1.8 - Linear Algebra Refresher from Alexey Grigorev or the excellent playlist from 3Blue1Brown Vectors | Chapter 1, Essence of linear algebra. Never hesitate to ask the community for help if you have any question.\n",
      "(Mélanie Fouesnard)\n",
      "\n",
      "section: General course-related questions\n",
      "question: The course videos are from the previous iteration. Will you release new ones or we’ll use the videos from 2021?\n",
      "text: We won’t re-record the course videos. The focus of the course and the skills we want to teach remained the same, and the videos are still up-to-date.\n",
      "If you haven’t taken part in the previous iteration, you can start watching the videos. It’ll be useful for you and you will learn new things. However, we recommend using Python 3.10 now instead of Python 3.8.\n",
      "\n",
      "section: General course-related questions\n",
      "question: Can I submit the homework after the due date?\n",
      "text: No, it’s not possible. The form is closed after the due date. But don’t worry, homework is not mandatory for finishing the course.\n",
      "\n",
      "    QUESTION:\n",
      "    the course has already started, can i still enroll?\n"
     ]
    }
   ],
   "source": [
    "print(aug_prompt)"
   ]
  },
  {
   "cell_type": "code",
   "execution_count": 33,
   "id": "a363691c",
   "metadata": {},
   "outputs": [],
   "source": [
    "aug_response = ollama.chat(\n",
    "    model=\"gpt-oss:20b\",\n",
    "    messages=[\n",
    "        {\"role\": \"user\", \"content\": aug_prompt}\n",
    "    ]\n",
    ")"
   ]
  },
  {
   "cell_type": "code",
   "execution_count": 34,
   "id": "70c07ecf",
   "metadata": {},
   "outputs": [
    {
     "name": "stdout",
     "output_type": "stream",
     "text": [
      "Yes, you can enroll even after the course has started. You may miss some homework submissions, but you can still participate. To earn a certificate, submit 2 out of the 3 course projects and review 3 peers’ projects by their deadlines.\n"
     ]
    }
   ],
   "source": [
    "print(aug_response['message']['content'])"
   ]
  },
  {
   "cell_type": "code",
   "execution_count": null,
   "id": "c213ead1",
   "metadata": {},
   "outputs": [],
   "source": [
    "def search(query, filter_dict=None, boost_dict=None, num_results=5):\n",
    "    results = index.search(\n",
    "        query=query,\n",
    "        filter_dict=filter_dict,\n",
    "        boost_dict=boost_dict,\n",
    "        num_results=num_results,\n",
    "    )\n",
    "    return results"
   ]
  },
  {
   "cell_type": "code",
   "execution_count": 48,
   "id": "c496fcf7",
   "metadata": {},
   "outputs": [],
   "source": [
    "query = \"how can i get the certificate?\"\n",
    "search_results = search(query, filter_dict={'course': 'machine-learning-zoomcamp'},\n",
    "                        num_results=10, boost_dict={\n",
    "                            \"AWS\": 2,\n",
    "                            \"Amazon\": 2,\n",
    "                            \"Lambda\": 2\n",
    "                        })"
   ]
  },
  {
   "cell_type": "code",
   "execution_count": 49,
   "id": "2f631d3d",
   "metadata": {},
   "outputs": [
    {
     "data": {
      "text/plain": [
       "[{'text': 'Yes, if you finish at least 2 out of 3 projects and review 3 peers’ Projects by the deadline, you will get a certificate. This is what it looks like: link. There’s also a version without a robot: link.',\n",
       "  'section': 'General course-related questions',\n",
       "  'question': 'Will I get a certificate?',\n",
       "  'course': 'machine-learning-zoomcamp'},\n",
       " {'text': \"Yes, it's possible. See the previous answer.\",\n",
       "  'section': 'General course-related questions',\n",
       "  'question': 'Will I get a certificate if I missed the midterm project?',\n",
       "  'course': 'machine-learning-zoomcamp'},\n",
       " {'text': 'Yes, you can. You won’t be able to submit some of the homeworks, but you can still take part in the course.\\nIn order to get a certificate, you need to submit 2 out of 3 course projects and review 3 peers’ Projects by the deadline. It means that if you join the course at the end of November and manage to work on two projects, you will still be eligible for a certificate.',\n",
       "  'section': 'General course-related questions',\n",
       "  'question': 'The course has already started. Can I still join it?',\n",
       "  'course': 'machine-learning-zoomcamp'},\n",
       " {'text': 'How to get classification metrics - precision, recall, f1 score, accuracy simultaneously\\nUse classification_report from sklearn. For more info check here.\\nAbhishek N',\n",
       "  'section': '4. Evaluation Metrics for Classification',\n",
       "  'question': 'How to get all classification metrics?',\n",
       "  'course': 'machine-learning-zoomcamp'},\n",
       " {'text': 'If you have submitted two projects (and peer-reviewed at least 3 course-mates’ projects for each submission), you will get the certificate for the course. According to the course coordinator, Alexey Grigorev, only two projects are needed to get the course certificate.\\n(optional) David Odimegwu',\n",
       "  'section': 'Projects (Midterm and Capstone)',\n",
       "  'question': 'What If I submitted only two projects and failed to submit the third?',\n",
       "  'course': 'machine-learning-zoomcamp'},\n",
       " {'text': 'During the XGBoost lesson, we created a parser to extract the training and validation auc from the standard output. However, we can accomplish that in a more straightforward way.\\nWe can use the evals_result  parameters, which takes an empty dictionary and updates it for each tree. Additionally, you can store the data in a dataframe and plot it in an easier manner.\\nAdded by Daniel Coronel',\n",
       "  'section': '6. Decision Trees and Ensemble Learning',\n",
       "  'question': 'How to get the training and validation metrics from XGBoost?',\n",
       "  'course': 'machine-learning-zoomcamp'},\n",
       " {'text': 'To check your file size using the powershell terminal, you can do the following command lines:\\n$File = Get-Item -Path path_to_file\\n$FileSize = (Get-Item -Path $FilePath).Length\\nNow you can check the size of your file, for example in MB:\\nWrite-host \"MB\":($FileSize/1MB)\\nSource: https://www.sharepointdiary.com/2020/10/powershell-get-file-size.html#:~:text=To%20get%20the%20size%20of,the%20file%2C%20including%20its%20size.\\nAdded by Mélanie Fouesnard',\n",
       "  'section': '9. Serverless Deep Learning',\n",
       "  'question': 'How to easily get file size in powershell terminal ?',\n",
       "  'course': 'machine-learning-zoomcamp'},\n",
       " {'text': 'TODO',\n",
       "  'section': '9. Serverless Deep Learning',\n",
       "  'question': 'How to get started with Week 9?',\n",
       "  'course': 'machine-learning-zoomcamp'},\n",
       " {'text': 'TODO',\n",
       "  'section': '8. Neural Networks and Deep Learning',\n",
       "  'question': 'How to get started with Week 8?',\n",
       "  'course': 'machine-learning-zoomcamp'},\n",
       " {'text': 'Week 6 HW: https://github.com/DataTalksClub/machine-learning-zoomcamp/blob/master/cohorts/2023/06-trees/homework.md\\nAll HWs: https://github.com/DataTalksClub/machine-learning-zoomcamp/blob/master/cohorts/2023/\\nHW 4 Solution: https://github.com/alexeygrigorev/mlbookcamp-code/blob/master/course-zoomcamp/cohorts/2022/04-evaluation/homework_4.ipynb\\nEvaluation Matrix: https://docs.google.com/spreadsheets/d/e/2PACX-1vQCwqAtkjl07MTW-SxWUK9GUvMQ3Pv_fF8UadcuIYLgHa0PlNu9BRWtfLgivI8xSCncQs82HDwGXSm3/pubhtml\\nGitHub for theory: https://github.com/alexeygrigorev/mlbookcamp-code/tree/master/course-zoomcamp\\nYouTube Link: 6.X --- https://www.youtube.com/watch?v=GJGmlfZoCoU&list=PL3MmuxUbc_hIhxl5Ji8t4O6lPAOpHaCLR&index=57\\nFAQs: https://docs.google.com/document/d/1LpPanc33QJJ6BSsyxVg-pWNMplal84TdZtq10naIhD8/edit#heading=h.lpz96zg7l47j\\n~~~Nukta Bhatia~~~',\n",
       "  'section': '6. Decision Trees and Ensemble Learning',\n",
       "  'question': 'How to get started with Week 6?',\n",
       "  'course': 'machine-learning-zoomcamp'}]"
      ]
     },
     "execution_count": 49,
     "metadata": {},
     "output_type": "execute_result"
    }
   ],
   "source": [
    "search_results"
   ]
  },
  {
   "cell_type": "code",
   "execution_count": 53,
   "id": "6c5a0d6a",
   "metadata": {},
   "outputs": [],
   "source": [
    "def build_prompt(query: str, search_results: list | list[dict]) -> str:\n",
    "    context = \"\"\n",
    "    for doc in search_results:\n",
    "        context += f\"section: {doc['section']}\\nquestion: {doc['question']}\\ntext: {doc['text']}\\n\\n\"\n",
    "    context = context.strip()\n",
    "    \n",
    "    prompt_template = f\"\"\"\n",
    "You're a course teaching assistant. Your job is to help students with their \n",
    "questions and provide explanations on various topics.\n",
    "Answer the question based on the CONTEXT. Use only the facts from the CONTEXT when answering the QUESTION.\n",
    "If the CONTEXT doesn't contain the answer, output NONE.\n",
    "\n",
    "CONTEXT:\n",
    "{context.strip()}\n",
    "\n",
    "QUESTION:\n",
    "{query.strip()}\n",
    "\"\"\"\n",
    "    return prompt_template.strip()\n",
    "    "
   ]
  },
  {
   "cell_type": "code",
   "execution_count": 54,
   "id": "72d41cd5",
   "metadata": {},
   "outputs": [],
   "source": [
    "aug_prompt = build_prompt(query, search_results)"
   ]
  },
  {
   "cell_type": "code",
   "execution_count": 55,
   "id": "8d62f2b3",
   "metadata": {},
   "outputs": [
    {
     "name": "stdout",
     "output_type": "stream",
     "text": [
      "You're a course teaching assistant. Your job is to help students with their \n",
      "questions and provide explanations on various topics.\n",
      "Answer the question based on the CONTEXT. Use only the facts from the CONTEXT when answering the QUESTION.\n",
      "If the CONTEXT doesn't contain the answer, output NONE.\n",
      "\n",
      "CONTEXT:\n",
      "section: General course-related questions\n",
      "question: Will I get a certificate?\n",
      "text: Yes, if you finish at least 2 out of 3 projects and review 3 peers’ Projects by the deadline, you will get a certificate. This is what it looks like: link. There’s also a version without a robot: link.\n",
      "\n",
      "section: General course-related questions\n",
      "question: Will I get a certificate if I missed the midterm project?\n",
      "text: Yes, it's possible. See the previous answer.\n",
      "\n",
      "section: General course-related questions\n",
      "question: The course has already started. Can I still join it?\n",
      "text: Yes, you can. You won’t be able to submit some of the homeworks, but you can still take part in the course.\n",
      "In order to get a certificate, you need to submit 2 out of 3 course projects and review 3 peers’ Projects by the deadline. It means that if you join the course at the end of November and manage to work on two projects, you will still be eligible for a certificate.\n",
      "\n",
      "section: 4. Evaluation Metrics for Classification\n",
      "question: How to get all classification metrics?\n",
      "text: How to get classification metrics - precision, recall, f1 score, accuracy simultaneously\n",
      "Use classification_report from sklearn. For more info check here.\n",
      "Abhishek N\n",
      "\n",
      "section: Projects (Midterm and Capstone)\n",
      "question: What If I submitted only two projects and failed to submit the third?\n",
      "text: If you have submitted two projects (and peer-reviewed at least 3 course-mates’ projects for each submission), you will get the certificate for the course. According to the course coordinator, Alexey Grigorev, only two projects are needed to get the course certificate.\n",
      "(optional) David Odimegwu\n",
      "\n",
      "section: 6. Decision Trees and Ensemble Learning\n",
      "question: How to get the training and validation metrics from XGBoost?\n",
      "text: During the XGBoost lesson, we created a parser to extract the training and validation auc from the standard output. However, we can accomplish that in a more straightforward way.\n",
      "We can use the evals_result  parameters, which takes an empty dictionary and updates it for each tree. Additionally, you can store the data in a dataframe and plot it in an easier manner.\n",
      "Added by Daniel Coronel\n",
      "\n",
      "section: 9. Serverless Deep Learning\n",
      "question: How to easily get file size in powershell terminal ?\n",
      "text: To check your file size using the powershell terminal, you can do the following command lines:\n",
      "$File = Get-Item -Path path_to_file\n",
      "$FileSize = (Get-Item -Path $FilePath).Length\n",
      "Now you can check the size of your file, for example in MB:\n",
      "Write-host \"MB\":($FileSize/1MB)\n",
      "Source: https://www.sharepointdiary.com/2020/10/powershell-get-file-size.html#:~:text=To%20get%20the%20size%20of,the%20file%2C%20including%20its%20size.\n",
      "Added by Mélanie Fouesnard\n",
      "\n",
      "section: 9. Serverless Deep Learning\n",
      "question: How to get started with Week 9?\n",
      "text: TODO\n",
      "\n",
      "section: 8. Neural Networks and Deep Learning\n",
      "question: How to get started with Week 8?\n",
      "text: TODO\n",
      "\n",
      "section: 6. Decision Trees and Ensemble Learning\n",
      "question: How to get started with Week 6?\n",
      "text: Week 6 HW: https://github.com/DataTalksClub/machine-learning-zoomcamp/blob/master/cohorts/2023/06-trees/homework.md\n",
      "All HWs: https://github.com/DataTalksClub/machine-learning-zoomcamp/blob/master/cohorts/2023/\n",
      "HW 4 Solution: https://github.com/alexeygrigorev/mlbookcamp-code/blob/master/course-zoomcamp/cohorts/2022/04-evaluation/homework_4.ipynb\n",
      "Evaluation Matrix: https://docs.google.com/spreadsheets/d/e/2PACX-1vQCwqAtkjl07MTW-SxWUK9GUvMQ3Pv_fF8UadcuIYLgHa0PlNu9BRWtfLgivI8xSCncQs82HDwGXSm3/pubhtml\n",
      "GitHub for theory: https://github.com/alexeygrigorev/mlbookcamp-code/tree/master/course-zoomcamp\n",
      "YouTube Link: 6.X --- https://www.youtube.com/watch?v=GJGmlfZoCoU&list=PL3MmuxUbc_hIhxl5Ji8t4O6lPAOpHaCLR&index=57\n",
      "FAQs: https://docs.google.com/document/d/1LpPanc33QJJ6BSsyxVg-pWNMplal84TdZtq10naIhD8/edit#heading=h.lpz96zg7l47j\n",
      "~~~Nukta Bhatia~~~\n",
      "\n",
      "QUESTION:\n",
      "how can i get the certificate?\n"
     ]
    }
   ],
   "source": [
    "print(aug_prompt)"
   ]
  },
  {
   "cell_type": "code",
   "execution_count": 57,
   "id": "33ae1903",
   "metadata": {},
   "outputs": [
    {
     "name": "stdout",
     "output_type": "stream",
     "text": [
      "To receive a certificate you must:\n",
      "\n",
      "1. Complete **at least two** of the three course projects (midterm, final, or another assignment).  \n",
      "2. Submit each completed project **by its deadline**.  \n",
      "3. Review **at least three** peer projects for each of your submissions (the reviews must also be submitted by the deadline).\n",
      "\n",
      "If you miss the midterm project, you can still earn the certificate by completing the other two projects and the required reviews.\n"
     ]
    }
   ],
   "source": [
    "def llm(prompt: str) -> str:\n",
    "    response = ollama.chat(\n",
    "        model = \"gpt-oss:20b\",\n",
    "        messages=[\n",
    "            {\"role\": \"user\", \"content\": prompt}\n",
    "        ]\n",
    "    )\n",
    "    \n",
    "    return response[\"message\"][\"content\"].strip()\n",
    "\n",
    "print(llm(aug_prompt))"
   ]
  }
 ],
 "metadata": {
  "kernelspec": {
   "display_name": "llm-zoomcamp-homeworks",
   "language": "python",
   "name": "python3"
  },
  "language_info": {
   "codemirror_mode": {
    "name": "ipython",
    "version": 3
   },
   "file_extension": ".py",
   "mimetype": "text/x-python",
   "name": "python",
   "nbconvert_exporter": "python",
   "pygments_lexer": "ipython3",
   "version": "3.12.3"
  }
 },
 "nbformat": 4,
 "nbformat_minor": 5
}
