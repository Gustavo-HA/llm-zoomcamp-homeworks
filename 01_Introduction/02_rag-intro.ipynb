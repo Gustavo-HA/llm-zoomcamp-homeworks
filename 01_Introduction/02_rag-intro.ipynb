{
 "cells": [
  {
   "cell_type": "code",
   "execution_count": 2,
   "id": "c5efbd3d",
   "metadata": {},
   "outputs": [],
   "source": [
    "import minsearch\n",
    "import json\n",
    "\n",
    "with open('./documents.json', 'rt') as f:\n",
    "    docs_raw = json.load(f)"
   ]
  },
  {
   "cell_type": "code",
   "execution_count": 3,
   "id": "2db03a84",
   "metadata": {},
   "outputs": [],
   "source": [
    "documents = []\n",
    "for course_dict in docs_raw:\n",
    "    for doc in course_dict['documents']:\n",
    "        doc['course'] = course_dict['course']\n",
    "        documents.append(doc)"
   ]
  },
  {
   "cell_type": "code",
   "execution_count": 4,
   "id": "139ba012",
   "metadata": {},
   "outputs": [
    {
     "data": {
      "text/plain": [
       "{'text': \"The purpose of this document is to capture frequently asked technical questions\\nThe exact day and hour of the course will be 15th Jan 2024 at 17h00. The course will start with the first  “Office Hours'' live.1\\nSubscribe to course public Google Calendar (it works from Desktop only).\\nRegister before the course starts using this link.\\nJoin the course Telegram channel with announcements.\\nDon’t forget to register in DataTalks.Club's Slack and join the channel.\",\n",
       " 'section': 'General course-related questions',\n",
       " 'question': 'Course - When will the course start?',\n",
       " 'course': 'data-engineering-zoomcamp'}"
      ]
     },
     "execution_count": 4,
     "metadata": {},
     "output_type": "execute_result"
    }
   ],
   "source": [
    "documents[0]"
   ]
  },
  {
   "cell_type": "code",
   "execution_count": 5,
   "id": "4fe6491c",
   "metadata": {},
   "outputs": [],
   "source": [
    "index = minsearch.Index(text_fields=['question',\n",
    "                             'text',\n",
    "                             'section'],\n",
    "                keyword_fields=['course']\n",
    ")"
   ]
  },
  {
   "cell_type": "code",
   "execution_count": 6,
   "id": "cf43db12",
   "metadata": {},
   "outputs": [],
   "source": [
    "q = \"the course has already started, can i still enroll?\""
   ]
  },
  {
   "cell_type": "code",
   "execution_count": 7,
   "id": "661c72ab",
   "metadata": {},
   "outputs": [
    {
     "data": {
      "text/plain": [
       "<minsearch.minsearch.Index at 0x79e436e955e0>"
      ]
     },
     "execution_count": 7,
     "metadata": {},
     "output_type": "execute_result"
    }
   ],
   "source": [
    "index.fit(documents)"
   ]
  },
  {
   "cell_type": "code",
   "execution_count": 8,
   "id": "eea58eef",
   "metadata": {},
   "outputs": [],
   "source": [
    "boost = {\n",
    "    'enroll': 2.0,\n",
    "    'started': 1.0,\n",
    "    'course': 0.5\n",
    "}\n",
    "\n",
    "results = index.search(\n",
    "    query=q,\n",
    "    filter_dict={'course': 'machine-learning-zoomcamp'},\n",
    "    boost_dict=boost,\n",
    "    num_results=5,\n",
    ")"
   ]
  },
  {
   "cell_type": "code",
   "execution_count": 9,
   "id": "a959b4bc",
   "metadata": {},
   "outputs": [
    {
     "data": {
      "text/plain": [
       "[{'text': 'Yes, you can. You won’t be able to submit some of the homeworks, but you can still take part in the course.\\nIn order to get a certificate, you need to submit 2 out of 3 course projects and review 3 peers’ Projects by the deadline. It means that if you join the course at the end of November and manage to work on two projects, you will still be eligible for a certificate.',\n",
       "  'section': 'General course-related questions',\n",
       "  'question': 'The course has already started. Can I still join it?',\n",
       "  'course': 'machine-learning-zoomcamp'},\n",
       " {'text': 'Welcome to the course! Go to the course page (http://mlzoomcamp.com/), scroll down and start going through the course materials. Then read everything in the cohort folder for your cohort’s year.\\nClick on the links and start watching the videos. Also watch office hours from previous cohorts. Go to DTC youtube channel and click on Playlists and search for {course yyyy}. ML Zoomcamp was first launched in 2021.\\nOr you can just use this link: http://mlzoomcamp.com/#syllabus',\n",
       "  'section': 'General course-related questions',\n",
       "  'question': 'I just joined. What should I do next? How can I access course materials?',\n",
       "  'course': 'machine-learning-zoomcamp'},\n",
       " {'text': \"Yes! We'll cover some linear algebra in the course, but in general, there will be very few formulas, mostly code.\\nHere are some interesting videos covering linear algebra that you can already watch: ML Zoomcamp 1.8 - Linear Algebra Refresher from Alexey Grigorev or the excellent playlist from 3Blue1Brown Vectors | Chapter 1, Essence of linear algebra. Never hesitate to ask the community for help if you have any question.\\n(Mélanie Fouesnard)\",\n",
       "  'section': 'General course-related questions',\n",
       "  'question': \"I don't know math. Can I take the course?\",\n",
       "  'course': 'machine-learning-zoomcamp'},\n",
       " {'text': 'We won’t re-record the course videos. The focus of the course and the skills we want to teach remained the same, and the videos are still up-to-date.\\nIf you haven’t taken part in the previous iteration, you can start watching the videos. It’ll be useful for you and you will learn new things. However, we recommend using Python 3.10 now instead of Python 3.8.',\n",
       "  'section': 'General course-related questions',\n",
       "  'question': 'The course videos are from the previous iteration. Will you release new ones or we’ll use the videos from 2021?',\n",
       "  'course': 'machine-learning-zoomcamp'},\n",
       " {'text': 'No, it’s not possible. The form is closed after the due date. But don’t worry, homework is not mandatory for finishing the course.',\n",
       "  'section': 'General course-related questions',\n",
       "  'question': 'Can I submit the homework after the due date?',\n",
       "  'course': 'machine-learning-zoomcamp'}]"
      ]
     },
     "execution_count": 9,
     "metadata": {},
     "output_type": "execute_result"
    }
   ],
   "source": [
    "results"
   ]
  },
  {
   "cell_type": "code",
   "execution_count": 10,
   "id": "72285d8b",
   "metadata": {},
   "outputs": [
    {
     "data": {
      "text/plain": [
       "'the course has already started, can i still enroll?'"
      ]
     },
     "execution_count": 10,
     "metadata": {},
     "output_type": "execute_result"
    }
   ],
   "source": [
    "q"
   ]
  },
  {
   "cell_type": "code",
   "execution_count": 11,
   "id": "f7bcd2cc",
   "metadata": {},
   "outputs": [],
   "source": [
    "import ollama"
   ]
  },
  {
   "cell_type": "code",
   "execution_count": 12,
   "id": "d1ca032c",
   "metadata": {},
   "outputs": [],
   "source": [
    "response = ollama.chat(\n",
    "    model=\"gpt-oss:20b\",\n",
    "    messages=[\n",
    "        {\n",
    "            \"role\": \"user\",\n",
    "            \"content\": q\n",
    "        }\n",
    "    ]\n",
    ")"
   ]
  },
  {
   "cell_type": "code",
   "execution_count": 16,
   "id": "e237483f",
   "metadata": {},
   "outputs": [
    {
     "name": "stdout",
     "output_type": "stream",
     "text": [
      "Sure! It’s not uncommon for courses to still let you join even after the first session has already happened. Here’s a quick checklist to help you get in on the action:\n",
      "\n",
      "| What to do | Why it matters | Tips |\n",
      "|------------|----------------|------|\n",
      "| **1. Check the enrollment button** | Some platforms automatically unlock the course for anyone who signs up, regardless of the start date. | On the course landing page, look for “Enroll now,” “Join course,” or a similar button. |\n",
      "| **2. Review the course syllabus & calendar** | Even if you’re a late‑comer, you’ll want to see what you’ll miss and how much you’ll need to catch up. | Pay attention to lecture dates, assignment due dates, and any live‑event schedules. |\n",
      "| **3. Look for a “Waitlist” or “Enroll late” option** | Many programs provide a waitlist or an “late enrollee” pathway that ensures you still get access. | If the button says “Join waitlist” or “Enroll later,” click it. |\n",
      "| **4. Contact the instructor or support team** | A quick email or chat can clarify whether late enrollment is permitted and what resources you’ll still get (e.g., recordings, Q&A sessions). | Draft a short message: “I’m interested in enrolling in [Course Name] but noticed it started on [date]. Could you let me know if I can still join and what I’d need to catch up on?” |\n",
      "| **5. Check for recorded materials** | Even if you can’t attend live sessions, many courses provide recordings that let you learn at your own pace. | Verify that the platform hosts “Class Recordings” or a “Learning Library.” |\n",
      "| **6. Set a realistic catch‑up plan** | Late enrollment often means you’ll have to fill in on content you missed. | Create a timeline: watch recordings, complete assignments, and schedule a quick “catch‑up” meeting if available. |\n",
      "\n",
      "### Quick FAQs\n",
      "\n",
      "| FAQ | Answer |\n",
      "|-----|--------|\n",
      "| **Can I still participate in live Q&A or discussion boards?** | Some instructors allow late students to hop into discussion boards but may skip live Q&A. Ask your instructor for specifics. |\n",
      "| **Will I miss graded assignments?** | You can usually still access and submit assignments, but you might be missing the initial due dates. Your instructor may offer extensions. |\n",
      "| **What if the course is a mandatory part of a program?** | If it’s a core requirement, most institutions have a late‑enrollment policy or a “make‑up” session. Contact the registrar or program office. |\n",
      "| **Is there an additional fee for late enrollment?** | Occasionally a small fee covers the administrative work or access to the first week’s content. Check the enrollment page or ask support. |\n",
      "\n",
      "### Next Steps\n",
      "\n",
      "1. **Open the course page** on your platform (e.g., Canvas, Coursera, Udemy, or your university’s LMS).\n",
      "2. **Click the enroll button** and see what pops up. If you see a confirmation, you’re good to go.\n",
      "3. **If enrollment is blocked**, look for a link to contact the instructor or support. Copy the syllabus PDF if you can – it often contains an “Enrollment Policy” section.\n",
      "4. **Send a polite inquiry** to the instructor or the student support desk. Use the template above if you need it.\n",
      "5. **Once enrolled, download any required materials** (syllabus, reading list, etc.) and set up your calendar so you can catch up quickly.\n",
      "\n",
      "---\n",
      "\n",
      "#### Pro Tip:  \n",
      "Even if the first week’s live sessions are gone, most platforms store recordings. If you’re proactive—watch the recordings, finish the first set of quizzes, and ask clarifying questions—you’ll quickly bring yourself up to speed and often catch up faster than you’d expect.\n",
      "\n",
      "Let me know if you hit any roadblocks or if you need help drafting that email! 🚀\n"
     ]
    }
   ],
   "source": [
    "print(response['message']['content'])"
   ]
  },
  {
   "cell_type": "code",
   "execution_count": 23,
   "id": "b4a419e4",
   "metadata": {},
   "outputs": [],
   "source": [
    "def get_prompt_template(context, question):\n",
    "    prompt_template = f\"\"\"\n",
    "    You're a course teaching assistant. Your job is to help students with their \n",
    "    questions and provide explanations on various topics.\n",
    "    Answer the question based on the CONTEXT. Use only the facts from the CONTEXT when answering the QUESTION.\n",
    "    If the CONTEXT doesn't contain the answer, output NONE.\n",
    "\n",
    "    CONTEXT:\n",
    "    {context}\n",
    "    \n",
    "    QUESTION:\n",
    "    {question}\n",
    "    \"\"\"\n",
    "    return prompt_template"
   ]
  },
  {
   "cell_type": "code",
   "execution_count": 18,
   "id": "42f58126",
   "metadata": {},
   "outputs": [],
   "source": [
    "context = \"\"\n",
    "for doc in results:\n",
    "    context += f\"section: {doc['section']}\\nquestion: {doc['question']}\\ntext: {doc['text']}\\n\\n\" "
   ]
  },
  {
   "cell_type": "code",
   "execution_count": 20,
   "id": "1814d1cf",
   "metadata": {},
   "outputs": [
    {
     "name": "stdout",
     "output_type": "stream",
     "text": [
      "section: General course-related questions\n",
      "question: The course has already started. Can I still join it?\n",
      "text: Yes, you can. You won’t be able to submit some of the homeworks, but you can still take part in the course.\n",
      "In order to get a certificate, you need to submit 2 out of 3 course projects and review 3 peers’ Projects by the deadline. It means that if you join the course at the end of November and manage to work on two projects, you will still be eligible for a certificate.\n",
      "\n",
      "section: General course-related questions\n",
      "question: I just joined. What should I do next? How can I access course materials?\n",
      "text: Welcome to the course! Go to the course page (http://mlzoomcamp.com/), scroll down and start going through the course materials. Then read everything in the cohort folder for your cohort’s year.\n",
      "Click on the links and start watching the videos. Also watch office hours from previous cohorts. Go to DTC youtube channel and click on Playlists and search for {course yyyy}. ML Zoomcamp was first launched in 2021.\n",
      "Or you can just use this link: http://mlzoomcamp.com/#syllabus\n",
      "\n",
      "section: General course-related questions\n",
      "question: I don't know math. Can I take the course?\n",
      "text: Yes! We'll cover some linear algebra in the course, but in general, there will be very few formulas, mostly code.\n",
      "Here are some interesting videos covering linear algebra that you can already watch: ML Zoomcamp 1.8 - Linear Algebra Refresher from Alexey Grigorev or the excellent playlist from 3Blue1Brown Vectors | Chapter 1, Essence of linear algebra. Never hesitate to ask the community for help if you have any question.\n",
      "(Mélanie Fouesnard)\n",
      "\n",
      "section: General course-related questions\n",
      "question: The course videos are from the previous iteration. Will you release new ones or we’ll use the videos from 2021?\n",
      "text: We won’t re-record the course videos. The focus of the course and the skills we want to teach remained the same, and the videos are still up-to-date.\n",
      "If you haven’t taken part in the previous iteration, you can start watching the videos. It’ll be useful for you and you will learn new things. However, we recommend using Python 3.10 now instead of Python 3.8.\n",
      "\n",
      "section: General course-related questions\n",
      "question: Can I submit the homework after the due date?\n",
      "text: No, it’s not possible. The form is closed after the due date. But don’t worry, homework is not mandatory for finishing the course.\n",
      "\n",
      "\n"
     ]
    }
   ],
   "source": [
    "print(context)"
   ]
  },
  {
   "cell_type": "code",
   "execution_count": 24,
   "id": "de4594ad",
   "metadata": {},
   "outputs": [],
   "source": [
    "aug_prompt = get_prompt_template(context, q)"
   ]
  },
  {
   "cell_type": "code",
   "execution_count": 25,
   "id": "837f615e",
   "metadata": {},
   "outputs": [
    {
     "data": {
      "text/plain": [
       "\"\\n    You're a course teaching assistant. Your job is to help students with their \\n    questions and provide explanations on various topics.\\n    Answer the question based on the CONTEXT. Use only the facts from the CONTEXT when answering the QUESTION.\\n    If the CONTEXT doesn't contain the answer, output NONE.\\n\\n    CONTEXT:\\n    section: General course-related questions\\nquestion: The course has already started. Can I still join it?\\ntext: Yes, you can. You won’t be able to submit some of the homeworks, but you can still take part in the course.\\nIn order to get a certificate, you need to submit 2 out of 3 course projects and review 3 peers’ Projects by the deadline. It means that if you join the course at the end of November and manage to work on two projects, you will still be eligible for a certificate.\\n\\nsection: General course-related questions\\nquestion: I just joined. What should I do next? How can I access course materials?\\ntext: Welcome to the course! Go to the course page (http://mlzoomcamp.com/), scroll down and start going through the course materials. Then read everything in the cohort folder for your cohort’s year.\\nClick on the links and start watching the videos. Also watch office hours from previous cohorts. Go to DTC youtube channel and click on Playlists and search for {course yyyy}. ML Zoomcamp was first launched in 2021.\\nOr you can just use this link: http://mlzoomcamp.com/#syllabus\\n\\nsection: General course-related questions\\nquestion: I don't know math. Can I take the course?\\ntext: Yes! We'll cover some linear algebra in the course, but in general, there will be very few formulas, mostly code.\\nHere are some interesting videos covering linear algebra that you can already watch: ML Zoomcamp 1.8 - Linear Algebra Refresher from Alexey Grigorev or the excellent playlist from 3Blue1Brown Vectors | Chapter 1, Essence of linear algebra. Never hesitate to ask the community for help if you have any question.\\n(Mélanie Fouesnard)\\n\\nsection: General course-related questions\\nquestion: The course videos are from the previous iteration. Will you release new ones or we’ll use the videos from 2021?\\ntext: We won’t re-record the course videos. The focus of the course and the skills we want to teach remained the same, and the videos are still up-to-date.\\nIf you haven’t taken part in the previous iteration, you can start watching the videos. It’ll be useful for you and you will learn new things. However, we recommend using Python 3.10 now instead of Python 3.8.\\n\\nsection: General course-related questions\\nquestion: Can I submit the homework after the due date?\\ntext: No, it’s not possible. The form is closed after the due date. But don’t worry, homework is not mandatory for finishing the course.\\n\\n\\n\\n    QUESTION:\\n    the course has already started, can i still enroll?\\n    \""
      ]
     },
     "execution_count": 25,
     "metadata": {},
     "output_type": "execute_result"
    }
   ],
   "source": [
    "aug_prompt"
   ]
  },
  {
   "cell_type": "code",
   "execution_count": 26,
   "id": "a363691c",
   "metadata": {},
   "outputs": [],
   "source": [
    "aug_response = ollama.chat(\n",
    "    model=\"gpt-oss:20b\",\n",
    "    messages=[\n",
    "        {\"role\": \"user\", \"content\": aug_prompt}\n",
    "    ]\n",
    ")"
   ]
  },
  {
   "cell_type": "code",
   "execution_count": 27,
   "id": "70c07ecf",
   "metadata": {},
   "outputs": [
    {
     "name": "stdout",
     "output_type": "stream",
     "text": [
      "Yes – you can still enroll. You may miss the opportunity to submit some of the earlier homeworks, but you can still participate in the course and, if you complete two projects and review three peers’ projects by the deadline, you’ll still be eligible for a certificate.\n"
     ]
    }
   ],
   "source": [
    "print(aug_response['message']['content'])"
   ]
  }
 ],
 "metadata": {
  "kernelspec": {
   "display_name": "llm-zoomcamp-homeworks",
   "language": "python",
   "name": "python3"
  },
  "language_info": {
   "codemirror_mode": {
    "name": "ipython",
    "version": 3
   },
   "file_extension": ".py",
   "mimetype": "text/x-python",
   "name": "python",
   "nbconvert_exporter": "python",
   "pygments_lexer": "ipython3",
   "version": "3.12.3"
  }
 },
 "nbformat": 4,
 "nbformat_minor": 5
}
