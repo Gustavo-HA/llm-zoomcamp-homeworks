{
 "cells": [
  {
   "cell_type": "code",
   "execution_count": null,
   "id": "a6b07bbe",
   "metadata": {},
   "outputs": [
    {
     "data": {
      "text/plain": [
       "False"
      ]
     },
     "execution_count": 2,
     "metadata": {},
     "output_type": "execute_result"
    }
   ],
   "source": [
    "import openai\n",
    "import ollama"
   ]
  },
  {
   "cell_type": "code",
   "execution_count": 3,
   "id": "d1f69d9f",
   "metadata": {},
   "outputs": [],
   "source": [
    "response = ollama.chat(\n",
    "    model=\"gpt-oss:20b\",\n",
    "    messages=[\n",
    "        {\n",
    "            \"role\": \"user\",\n",
    "            \"content\": \"Hello, why is the sky blue?\"\n",
    "        }\n",
    "    ]\n",
    ")"
   ]
  },
  {
   "cell_type": "code",
   "execution_count": 6,
   "id": "211a2369",
   "metadata": {},
   "outputs": [
    {
     "name": "stdout",
     "output_type": "stream",
     "text": [
      "The sky looks blue because of the way sunlight interacts with Earth’s atmosphere. Here’s a step‑by‑step explanation:\n",
      "\n",
      "| Step | What happens | Why it matters |\n",
      "|------|--------------|----------------|\n",
      "| 1. **Sunlight is white** | Sunlight contains all colors (red, orange, yellow, green, blue, indigo, violet). | The spectrum of sunlight is like a rainbow. |\n",
      "| 2. **Atmospheric molecules scatter light** | Tiny gas molecules (N₂, O₂, etc.) and very small aerosols hit the light and change its direction. | This is called *Rayleigh scattering*—the same physics that makes the sky clear during the day. |\n",
      "| 3. **Short‑wavelength light scatters more** | Blue (≈ 450 nm) and violet (≈ 400 nm) photons are scattered ≈ (λ₀/λ)⁴ times more than red (≈ 650 nm). | Blue scatters ~ 10× more than red, so it’s overwhelmingly favored in every direction. |\n",
      "| 4. **We see the scattered blue from all angles** | Because scattered light reaches our eyes from every part of the sky, it appears uniformly blue. | The scattering is so strong that even though violet is scattered more, our eyes are less sensitive to violet and the air absorbs some violet. |\n",
      "\n",
      "### Why the sky isn’t violet\n",
      "\n",
      "* The human eye is more sensitive to green‑yellow wavelengths than violet.\n",
      "* Short‑wavelength light is partially absorbed by the ozone layer and by the Earth’s surface.\n",
      "* At high altitudes, the sky can look more purplish‑blue, but at the surface it’s usually blue‑green.\n",
      "\n",
      "### Why sunrise and sunset are red\n",
      "\n",
      "During sunrise/sunset, sunlight travels through a longer path in the atmosphere:\n",
      "\n",
      "* **More scattering of blue/violet light** → it’s largely removed from the direct beam.\n",
      "* **Red, orange, and yellow light** (longer wavelengths) reach the observer, giving the sky its warm hues.\n",
      "\n",
      "### Quick sanity check\n",
      "\n",
      "If you shine a bright white light through a clear glass of water (or a gas cell) and watch the scattered light, you’ll see a faint blue tint—exactly the same scattering process, just on a tiny scale.\n",
      "\n",
      "---\n",
      "\n",
      "**In short:** The sky is blue because short‑wavelength blue light is scattered in all directions by the molecules in Earth’s atmosphere, and our eyes pick it up more readily than the other colors.\n"
     ]
    }
   ],
   "source": [
    "print(response['message']['content'])"
   ]
  },
  {
   "cell_type": "code",
   "execution_count": null,
   "id": "7f83339b",
   "metadata": {},
   "outputs": [],
   "source": []
  }
 ],
 "metadata": {
  "kernelspec": {
   "display_name": "llm-zoomcamp-homeworks",
   "language": "python",
   "name": "python3"
  },
  "language_info": {
   "codemirror_mode": {
    "name": "ipython",
    "version": 3
   },
   "file_extension": ".py",
   "mimetype": "text/x-python",
   "name": "python",
   "nbconvert_exporter": "python",
   "pygments_lexer": "ipython3",
   "version": "3.12.3"
  }
 },
 "nbformat": 4,
 "nbformat_minor": 5
}
