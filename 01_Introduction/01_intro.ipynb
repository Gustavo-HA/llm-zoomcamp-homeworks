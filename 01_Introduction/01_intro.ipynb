{
 "cells": [
  {
   "cell_type": "code",
   "execution_count": 1,
   "id": "a6b07bbe",
   "metadata": {},
   "outputs": [],
   "source": [
    "import ollama"
   ]
  },
  {
   "cell_type": "code",
   "execution_count": null,
   "id": "d1f69d9f",
   "metadata": {},
   "outputs": [],
   "source": [
    "response = ollama.chat(\n",
    "    model=\"gpt-oss:20b\",\n",
    "    messages=[\n",
    "        {\n",
    "            \"role\": \"user\",\n",
    "            \"content\": \"Hello, why is the sky blue?\"\n",
    "        }\n",
    "    ]\n",
    ")"
   ]
  },
  {
   "cell_type": "code",
   "execution_count": 5,
   "id": "211a2369",
   "metadata": {},
   "outputs": [
    {
     "name": "stdout",
     "output_type": "stream",
     "text": [
      "The sky looks blue to us because of the way sunlight interacts with the gases and particles in the Earth’s atmosphere. Here’s a step‑by‑step, accessible explanation:\n",
      "\n",
      "---\n",
      "\n",
      "## 1. Sunlight isn’t actually “blue”\n",
      "White light from the Sun is a mixture of many colors—red, orange, yellow, green, blue, indigo, violet. Each color has a different wavelength (or “frequency”). Short‑wavelength colors (blue, violet) are on the short‑end of the spectrum; long‑wavelength colors (red, orange) are on the long‑end.\n",
      "\n",
      "---\n",
      "\n",
      "## 2. Rayleigh scattering – the key mechanism\n",
      "\n",
      "### What it is\n",
      "- **Rayleigh scattering** is the elastic scattering of light by particles that are much smaller than the wavelength of the light (think molecules of N₂, O₂, CO₂).\n",
      "- The amount of scattering is inversely proportional to the fourth power of the wavelength:  \n",
      "\n",
      "  \\[\n",
      "  I_{\\text{scattered}} \\propto \\frac{1}{\\lambda^4}\n",
      "  \\]\n",
      "\n",
      "  This means that blue light (≈ 450 nm) is scattered about **10 000 times** more strongly than red light (≈ 650 nm).\n",
      "\n",
      "### Why it matters\n",
      "- When sunlight enters the atmosphere, the shorter‑wavelength blue and violet photons are deflected in all directions much more readily than the longer‑wavelength reds and oranges.\n",
      "- Because we look in a random direction, we see a large amount of scattered blue light coming from all parts of the sky.\n",
      "\n",
      "---\n",
      "\n",
      "## 3. A quick “what‑if” check\n",
      "\n",
      "| Color | Wavelength (nm) | Relative scattering intensity (scaled to blue = 1) |\n",
      "|-------|-----------------|----------------------------------------------------|\n",
      "| Violet | ~ 380 | ~ 1.05 |\n",
      "| Blue | ~ 450 | 1 |\n",
      "| Green | ~ 520 | ~ 0.44 |\n",
      "| Yellow | ~ 580 | ~ 0.32 |\n",
      "| Orange | ~ 620 | ~ 0.23 |\n",
      "| Red | ~ 650 | ~ 0.17 |\n",
      "\n",
      "You can see why the sky’s dominant color falls in the blue range.\n",
      "\n",
      "---\n",
      "\n",
      "## 4. Why we don’t see violet as much\n",
      "\n",
      "- **Human eye sensitivity:** Our photoreceptors (cones) are less sensitive to violet light, especially in daylight, so blue dominates.\n",
      "- **Atmospheric absorption:** The upper atmosphere absorbs a fair chunk of ultraviolet and violet photons (the ozone layer helps).\n",
      "- **Mixing of colors:** The scattered violet and blue photons mix in the atmosphere, producing the familiar “blue‑ish” hue.\n",
      "\n",
      "---\n",
      "\n",
      "## 5. Other reasons the sky can change color\n",
      "\n",
      "| Time / Condition | Color | Reason |\n",
      "|------------------|-------|--------|\n",
      "| **Sunrise/Sunset** | Orange, red | The sun’s light passes through a much larger column of atmosphere; blue light is scattered out of the direct beam, leaving the long‑wavelength reds. |\n",
      "| **Smog / Pollution** | Grey / brown | Large aerosol particles (Mie scattering) scatter light more evenly across wavelengths, reducing the blue tint. |\n",
      "| **Clear night sky** | Black (with stars) | Very little scattering because there is no sunlight; the sky is dark. |\n",
      "| **Blue‑ish glow near the horizon** | Blueish | Some scattering of sunlight near the horizon can produce a faint blue “blue hour” just after sunset or before sunrise. |\n",
      "\n",
      "---\n",
      "\n",
      "## 6. A quick historical note\n",
      "\n",
      "- **First explanation:** In 1816, the British scientist *John Tyndall* published the first quantitative theory of Rayleigh scattering, which explained the blue sky.\n",
      "- **Modern view:** Rayleigh scattering is now a foundational concept in atmospheric physics, remote sensing, and even the design of optical instruments.\n",
      "\n",
      "---\n",
      "\n",
      "## Bottom line\n",
      "\n",
      "The sky is blue because sunlight contains all colors, but the Earth’s atmosphere scatters short‑wavelength blue light far more efficiently than the longer wavelengths. Our eyes, the scattering physics, and a bit of atmospheric chemistry combine to give us that familiar azure canvas above us. 🌌\n"
     ]
    }
   ],
   "source": [
    "print(response['message']['content'])"
   ]
  },
  {
   "cell_type": "code",
   "execution_count": null,
   "id": "7f83339b",
   "metadata": {},
   "outputs": [],
   "source": []
  }
 ],
 "metadata": {
  "kernelspec": {
   "display_name": "llm-zoomcamp-homeworks",
   "language": "python",
   "name": "python3"
  },
  "language_info": {
   "codemirror_mode": {
    "name": "ipython",
    "version": 3
   },
   "file_extension": ".py",
   "mimetype": "text/x-python",
   "name": "python",
   "nbconvert_exporter": "python",
   "pygments_lexer": "ipython3",
   "version": "3.12.3"
  }
 },
 "nbformat": 4,
 "nbformat_minor": 5
}
